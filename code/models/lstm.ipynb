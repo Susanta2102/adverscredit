{
  "nbformat": 4,
  "nbformat_minor": 0,
  "metadata": {
    "colab": {
      "provenance": [],
      "gpuType": "T4"
    },
    "kernelspec": {
      "name": "python3",
      "display_name": "Python 3"
    },
    "language_info": {
      "name": "python"
    },
    "accelerator": "GPU"
  },
  "cells": [
    {
      "cell_type": "code",
      "execution_count": null,
      "metadata": {
        "id": "IYL4t1oy5Hac"
      },
      "outputs": [],
      "source": [
        "import torch\n",
        "import torch.nn as nn\n",
        "import torch.optim as optim\n",
        "from sklearn.metrics import classification_report, confusion_matrix, roc_auc_score, roc_curve, auc\n",
        "import matplotlib.pyplot as plt\n",
        "import seaborn as sns\n",
        "import pandas as pd\n",
        "from itertools import product\n",
        "from sklearn.preprocessing import label_binarize\n",
        "import numpy as np\n",
        "from torch.utils.data import DataLoader, TensorDataset\n",
        "from sklearn.preprocessing import StandardScaler\n",
        "from sklearn.metrics import accuracy_score"
      ]
    },
    {
      "cell_type": "code",
      "source": [
        "from google.colab import drive\n",
        "drive.mount('/content/drive')"
      ],
      "metadata": {
        "colab": {
          "base_uri": "https://localhost:8080/"
        },
        "id": "LmXKeSMn8BGM",
        "outputId": "87cadf04-a92c-4aea-e5a7-d7124f2cf9e5"
      },
      "execution_count": null,
      "outputs": [
        {
          "output_type": "stream",
          "name": "stdout",
          "text": [
            "Mounted at /content/drive\n"
          ]
        }
      ]
    },
    {
      "cell_type": "code",
      "source": [
        "# Check if GPU is available\n",
        "device = torch.device(\"cuda\" if torch.cuda.is_available() else \"cpu\")\n",
        "print(f\"Using device: {device}\")\n",
        "\n",
        "# Load the data\n",
        "x_train = pd.read_csv(\"/content/drive/MyDrive/models/data/X_train.csv\")\n",
        "x_test = pd.read_csv(\"/content/drive/MyDrive/models/data/X_test.csv\")\n",
        "y_train = pd.read_csv(\"/content/drive/MyDrive/models/data/y_train.csv\")\n",
        "y_test = pd.read_csv(\"/content/drive/MyDrive/models/data/y_test.csv\")"
      ],
      "metadata": {
        "id": "doMTKNVl6Bp1",
        "colab": {
          "base_uri": "https://localhost:8080/"
        },
        "outputId": "66578b54-d325-4248-e872-ccdef0ec0264"
      },
      "execution_count": null,
      "outputs": [
        {
          "output_type": "stream",
          "name": "stdout",
          "text": [
            "Using device: cuda\n",
            "x_train shape: (454904, 30)\n",
            "x_test shape: (113726, 30)\n",
            "y_train shape: (454904, 1)\n",
            "y_test shape: (113726, 1)\n"
          ]
        }
      ]
    },
    {
      "cell_type": "code",
      "source": [
        "# Convert to numpy arrays\n",
        "x_train_np = x_train.to_numpy()\n",
        "x_test_np = x_test.to_numpy()\n",
        "y_train_np = y_train.to_numpy().squeeze()  # Convert to 1D\n",
        "y_test_np = y_test.to_numpy().squeeze()    # Convert to 1D\n",
        "\n",
        "# Normalize features\n",
        "scaler = StandardScaler()\n",
        "x_train_np = scaler.fit_transform(x_train_np)\n",
        "x_test_np = scaler.transform(x_test_np)\n",
        "\n",
        "# Reshape for LSTM: (num_samples, seq_length, num_features)\n",
        "x_train_np = x_train_np.reshape((x_train_np.shape[0], 1, x_train_np.shape[1]))\n",
        "x_test_np = x_test_np.reshape((x_test_np.shape[0], 1, x_test_np.shape[1]))\n",
        "\n",
        "# Convert numpy arrays to PyTorch tensors\n",
        "x_train_tensor = torch.tensor(x_train_np, dtype=torch.float32).cuda()\n",
        "x_test_tensor = torch.tensor(x_test_np, dtype=torch.float32).cuda()\n",
        "y_train_tensor = torch.tensor(y_train_np, dtype=torch.float32).cuda()\n",
        "y_test_tensor = torch.tensor(y_test_np, dtype=torch.float32).cuda()\n",
        "\n",
        "# Create DataLoader\n",
        "train_dataset = TensorDataset(x_train_tensor, y_train_tensor)\n",
        "test_dataset = TensorDataset(x_test_tensor, y_test_tensor)\n",
        "\n",
        "train_loader = DataLoader(train_dataset, batch_size=64, shuffle=True)\n",
        "test_loader = DataLoader(test_dataset, batch_size=64, shuffle=False)"
      ],
      "metadata": {
        "id": "RcMkVmw5hEWm"
      },
      "execution_count": null,
      "outputs": []
    },
    {
      "cell_type": "code",
      "source": [
        "class Attention(nn.Module):\n",
        "    def __init__(self, hidden_dim):\n",
        "        super(Attention, self).__init__()\n",
        "        self.W = nn.Linear(hidden_dim, hidden_dim)\n",
        "        self.v = nn.Parameter(torch.randn(hidden_dim))\n",
        "\n",
        "    def forward(self, hidden_states):\n",
        "        scores = torch.tanh(self.W(hidden_states))\n",
        "        scores = torch.matmul(scores, self.v.unsqueeze(0).unsqueeze(-1)).squeeze(-1)\n",
        "        attn_weights = torch.softmax(scores, dim=1)\n",
        "        context = torch.bmm(attn_weights.unsqueeze(1), hidden_states).squeeze(1)\n",
        "        return context\n",
        "\n",
        "class LSTMWithAttention(nn.Module):\n",
        "    def __init__(self, input_dim, hidden_dim, output_dim, num_layers=1):\n",
        "        super(LSTMWithAttention, self).__init__()\n",
        "        self.lstm = nn.LSTM(input_dim, hidden_dim, num_layers, batch_first=True)\n",
        "        self.attention = Attention(hidden_dim)\n",
        "        self.fc = nn.Linear(hidden_dim, output_dim)\n",
        "\n",
        "    def forward(self, x):\n",
        "        lstm_out, _ = self.lstm(x)\n",
        "        attn_out = self.attention(lstm_out)\n",
        "        out = self.fc(attn_out)\n",
        "        return out"
      ],
      "metadata": {
        "id": "ESZ2H2dQ5_bN"
      },
      "execution_count": null,
      "outputs": []
    },
    {
      "cell_type": "code",
      "source": [
        "# Model parameters\n",
        "input_dim = x_train_tensor.shape[2]  # Number of features\n",
        "hidden_dim = 128\n",
        "output_dim = 1  # Binary classification\n",
        "num_layers = 1\n",
        "\n",
        "# Initialize the model\n",
        "model = LSTMWithAttention(input_dim, hidden_dim, output_dim, num_layers).cuda()\n",
        "\n",
        "def train_model(model, train_loader, num_epochs=10, learning_rate=0.001):\n",
        "    criterion = nn.BCEWithLogitsLoss()\n",
        "    optimizer = optim.Adam(model.parameters(), lr=learning_rate)\n",
        "\n",
        "    for epoch in range(num_epochs):\n",
        "        model.train()\n",
        "        running_loss = 0.0\n",
        "        correct = 0\n",
        "        total = 0\n",
        "\n",
        "        for inputs, labels in train_loader:\n",
        "            optimizer.zero_grad()\n",
        "            outputs = model(inputs)\n",
        "            loss = criterion(outputs.squeeze(), labels)\n",
        "            loss.backward()\n",
        "            optimizer.step()\n",
        "\n",
        "            running_loss += loss.item() * inputs.size(0)\n",
        "\n",
        "            # Compute predictions and accuracy\n",
        "            predicted = (torch.sigmoid(outputs.squeeze()) > 0.5).float()\n",
        "            correct += (predicted == labels).sum().item()\n",
        "            total += labels.size(0)\n",
        "\n",
        "        epoch_loss = running_loss / len(train_loader.dataset)\n",
        "        epoch_accuracy = correct / total\n",
        "        print(f\"Epoch {epoch + 1}/{num_epochs}, Loss: {epoch_loss:.4f}, Accuracy: {epoch_accuracy:.4f}\")\n",
        "\n",
        "    print(\"Training complete.\")\n",
        "\n",
        "# Training the model\n",
        "train_model(model, train_loader)"
      ],
      "metadata": {
        "colab": {
          "base_uri": "https://localhost:8080/"
        },
        "id": "ZMItlEpmh-Yj",
        "outputId": "2075eb3c-300a-40e1-d7bb-e2ee735b5264"
      },
      "execution_count": null,
      "outputs": [
        {
          "output_type": "stream",
          "name": "stdout",
          "text": [
            "Epoch 1/10, Loss: 0.0127, Accuracy: 0.9966\n",
            "Epoch 2/10, Loss: 0.0024, Accuracy: 0.9995\n",
            "Epoch 3/10, Loss: 0.0017, Accuracy: 0.9996\n",
            "Epoch 4/10, Loss: 0.0013, Accuracy: 0.9997\n",
            "Epoch 5/10, Loss: 0.0011, Accuracy: 0.9997\n",
            "Epoch 6/10, Loss: 0.0010, Accuracy: 0.9998\n",
            "Epoch 7/10, Loss: 0.0009, Accuracy: 0.9998\n",
            "Epoch 8/10, Loss: 0.0007, Accuracy: 0.9998\n",
            "Epoch 9/10, Loss: 0.0006, Accuracy: 0.9999\n",
            "Epoch 10/10, Loss: 0.0005, Accuracy: 0.9999\n",
            "Training complete.\n"
          ]
        }
      ]
    },
    {
      "cell_type": "code",
      "source": [
        "import numpy as np\n",
        "import matplotlib.pyplot as plt\n",
        "from sklearn.metrics import confusion_matrix, classification_report, roc_curve, auc\n",
        "\n",
        "def evaluate_model(model, test_loader):\n",
        "    model.eval()\n",
        "    all_labels = []\n",
        "    all_preds = []\n",
        "\n",
        "    with torch.no_grad():\n",
        "        for inputs, labels in test_loader:\n",
        "            outputs = model(inputs)\n",
        "            predicted = (torch.sigmoid(outputs.squeeze()) > 0.5).float()\n",
        "            all_labels.extend(labels.cpu().numpy())\n",
        "            all_preds.extend(predicted.cpu().numpy())\n",
        "\n",
        "    all_labels = np.array(all_labels)\n",
        "    all_preds = np.array(all_preds)\n",
        "\n",
        "    # Compute metrics\n",
        "    conf_matrix = confusion_matrix(all_labels, all_preds)\n",
        "    class_report = classification_report(all_labels, all_preds)\n",
        "\n",
        "    # ROC Curve\n",
        "    fpr, tpr, _ = roc_curve(all_labels, all_preds)\n",
        "    roc_auc = auc(fpr, tpr)\n",
        "\n",
        "    # Print confusion matrix and classification report\n",
        "    print(\"Confusion Matrix:\")\n",
        "    print(conf_matrix)\n",
        "    print(\"\\nClassification Report:\")\n",
        "    print(class_report)\n",
        "\n",
        "    # Plot ROC Curve\n",
        "    plt.figure()\n",
        "    plt.plot(fpr, tpr, color='darkorange', lw=2, label='ROC curve (area = %0.2f)' % roc_auc)\n",
        "    plt.plot([0, 1], [0, 1], color='navy', lw=2, linestyle='--')\n",
        "    plt.xlim([0.0, 1.0])\n",
        "    plt.ylim([0.0, 1.05])\n",
        "    plt.xlabel('False Positive Rate')\n",
        "    plt.ylabel('True Positive Rate')\n",
        "    plt.title('Receiver Operating Characteristic (ROC)')\n",
        "    plt.legend(loc='lower right')\n",
        "    plt.show()"
      ],
      "metadata": {
        "id": "PkvBqK7z7Ak7"
      },
      "execution_count": null,
      "outputs": []
    },
    {
      "cell_type": "code",
      "source": [
        "# Evaluating the model\n",
        "evaluate_model(model, test_loader)"
      ],
      "metadata": {
        "colab": {
          "base_uri": "https://localhost:8080/",
          "height": 715
        },
        "id": "Zkm7kkT3jque",
        "outputId": "2fa40a7c-1ecf-453a-f75d-7fd05e7697bb"
      },
      "execution_count": null,
      "outputs": [
        {
          "output_type": "stream",
          "name": "stdout",
          "text": [
            "Confusion Matrix:\n",
            "[[56851    12]\n",
            " [   23 56840]]\n",
            "\n",
            "Classification Report:\n",
            "              precision    recall  f1-score   support\n",
            "\n",
            "         0.0       1.00      1.00      1.00     56863\n",
            "         1.0       1.00      1.00      1.00     56863\n",
            "\n",
            "    accuracy                           1.00    113726\n",
            "   macro avg       1.00      1.00      1.00    113726\n",
            "weighted avg       1.00      1.00      1.00    113726\n",
            "\n"
          ]
        },
        {
          "output_type": "display_data",
          "data": {
            "text/plain": [
              "<Figure size 640x480 with 1 Axes>"
            ],
            "image/png": "[encoded data removed]"
          },
          "metadata": {}
        }
      ]
    },
    {
      "cell_type": "code",
      "source": [
        "# Save the model\n",
        "model_path = \"lstm_attention_model.pth\"\n",
        "torch.save(model.state_dict(), model_path)\n",
        "print(f\"Model saved to {model_path}\")"
      ],
      "metadata": {
        "colab": {
          "base_uri": "https://localhost:8080/"
        },
        "id": "pVl0jlZtjt89",
        "outputId": "d6fe970e-1468-4e61-ce26-9af7529a533d"
      },
      "execution_count": null,
      "outputs": [
        {
          "output_type": "stream",
          "name": "stdout",
          "text": [
            "Model saved to lstm_attention_model.pth\n"
          ]
        }
      ]
    },
    {
      "cell_type": "code",
      "source": [],
      "metadata": {
        "id": "RZTZQtX5kCCT"
      },
      "execution_count": null,
      "outputs": []
    }
  ]
}