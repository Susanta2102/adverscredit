{
 "cells": [
  {
   "cell_type": "code",
   "execution_count": 2,
   "metadata": {},
   "outputs": [
    {
     "name": "stdout",
     "output_type": "stream",
     "text": [
      "Training data saved to /Users/aryankargwal/adverscredit/models/data/train_dataset.csv\n",
      "Testing data saved to /Users/aryankargwal/adverscredit/models/data/test_dataset.csv\n"
     ]
    }
   ],
   "source": [
    "import pandas as pd\n",
    "from sklearn.model_selection import train_test_split\n",
    "\n",
    "# Load your dataset\n",
    "input_file = '/Users/aryankargwal/adverscredit/models/data/credit.csv'\n",
    "df = pd.read_csv(input_file)\n",
    "\n",
    "# Define the ratio for splitting (80% train, 20% test)\n",
    "test_size = 0.2\n",
    "\n",
    "# Split the dataset into training and testing sets\n",
    "train_df, test_df = train_test_split(df, test_size=test_size, random_state=42)\n",
    "\n",
    "# Save the datasets to new CSV files\n",
    "train_file = '/Users/aryankargwal/adverscredit/models/data/train_dataset.csv'\n",
    "test_file = '/Users/aryankargwal/adverscredit/models/data/test_dataset.csv'\n",
    "\n",
    "train_df.to_csv(train_file, index=False)\n",
    "test_df.to_csv(test_file, index=False)\n",
    "\n",
    "print(f\"Training data saved to {train_file}\")\n",
    "print(f\"Testing data saved to {test_file}\")"
   ]
  },
  {
   "cell_type": "code",
   "execution_count": null,
   "metadata": {},
   "outputs": [],
   "source": []
  }
 ],
 "metadata": {
  "kernelspec": {
   "display_name": "Python 3.11.0 ('base')",
   "language": "python",
   "name": "python3"
  },
  "language_info": {
   "codemirror_mode": {
    "name": "ipython",
    "version": 3
   },
   "file_extension": ".py",
   "mimetype": "text/x-python",
   "name": "python",
   "nbconvert_exporter": "python",
   "pygments_lexer": "ipython3",
   "version": "3.11.0"
  },
  "orig_nbformat": 4,
  "vscode": {
   "interpreter": {
    "hash": "40d3a090f54c6569ab1632332b64b2c03c39dcf918b08424e98f38b5ae0af88f"
   }
  }
 },
 "nbformat": 4,
 "nbformat_minor": 2
}
