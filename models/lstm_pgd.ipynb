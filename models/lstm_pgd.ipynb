{
  "cells": [
    {
      "cell_type": "code",
      "execution_count": 1,
      "metadata": {
        "id": "Laf1vf7gkUcB"
      },
      "outputs": [],
      "source": [
        "import torch\n",
        "import torch.nn as nn\n",
        "import torch.optim as optim\n",
        "import pandas as pd\n",
        "import numpy as np\n",
        "from sklearn.preprocessing import StandardScaler\n",
        "from torch.utils.data import DataLoader, TensorDataset"
      ]
    },
    {
      "cell_type": "code",
      "execution_count": 5,
      "metadata": {
        "colab": {
          "base_uri": "https://localhost:8080/"
        },
        "id": "opEBeEDXlhLk",
        "outputId": "55744c3a-7602-4a59-f8f6-a4d9677bd9ae"
      },
      "outputs": [
        {
          "name": "stdout",
          "output_type": "stream",
          "text": [
            "Using device: mps\n"
          ]
        }
      ],
      "source": [
        "# Check if GPU is available\n",
        "device = torch.device(\"mps\" if torch.backends.mps.is_available() else \"cpu\")\n",
        "print(f\"Using device: {device}\")\n",
        "\n",
        "# Load adversarial data\n",
        "adv_train = pd.read_csv(\"/Users/aryankargwal/adverscredit/models/data/pgd_train.csv\")\n",
        "adv_test = pd.read_csv(\"/Users/aryankargwal/adverscredit/models/data/pgd_test.csv\")\n",
        "\n",
        "# Assuming the last column is the label and the rest are features\n",
        "x_train_adv = adv_train.iloc[:, :-1].values  # Features\n",
        "y_train_adv = adv_train.iloc[:, -1].values   # Labels\n",
        "x_test_adv = adv_test.iloc[:, :-1].values    # Features\n",
        "y_test_adv = adv_test.iloc[:, -1].values     # Labels\n"
      ]
    },
    {
      "cell_type": "code",
      "execution_count": 6,
      "metadata": {
        "id": "r0Cp1gdnlxaI"
      },
      "outputs": [],
      "source": [
        "# Normalize features\n",
        "scaler = StandardScaler()\n",
        "x_train_adv = scaler.fit_transform(x_train_adv)\n",
        "x_test_adv = scaler.transform(x_test_adv)\n",
        "\n",
        "# Reshape for LSTM: (num_samples, seq_length, num_features)\n",
        "x_train_adv = x_train_adv.reshape((x_train_adv.shape[0], 1, x_train_adv.shape[1]))\n",
        "x_test_adv = x_test_adv.reshape((x_test_adv.shape[0], 1, x_test_adv.shape[1]))\n",
        "\n",
        "# Convert numpy arrays to PyTorch tensors\n",
        "x_train_adv_tensor = torch.tensor(x_train_adv, dtype=torch.float32).to(device)\n",
        "x_test_adv_tensor = torch.tensor(x_test_adv, dtype=torch.float32).to(device)\n",
        "y_train_adv_tensor = torch.tensor(y_train_adv, dtype=torch.float32).to(device)\n",
        "y_test_adv_tensor = torch.tensor(y_test_adv, dtype=torch.float32).to(device)\n",
        "\n",
        "# Create DataLoader for adversarial data\n",
        "train_adv_dataset = TensorDataset(x_train_adv_tensor, y_train_adv_tensor)\n",
        "test_adv_dataset = TensorDataset(x_test_adv_tensor, y_test_adv_tensor)\n",
        "\n",
        "train_adv_loader = DataLoader(train_adv_dataset, batch_size=64, shuffle=True)\n",
        "test_adv_loader = DataLoader(test_adv_dataset, batch_size=64, shuffle=False)"
      ]
    },
    {
      "cell_type": "code",
      "execution_count": 7,
      "metadata": {
        "id": "I20EYA-klxyd"
      },
      "outputs": [],
      "source": [
        "class Attention(nn.Module):\n",
        "    def __init__(self, hidden_dim):\n",
        "        super(Attention, self).__init__()\n",
        "        self.W = nn.Linear(hidden_dim, hidden_dim)\n",
        "        self.v = nn.Parameter(torch.randn(hidden_dim))\n",
        "\n",
        "    def forward(self, hidden_states):\n",
        "        scores = torch.tanh(self.W(hidden_states))\n",
        "        scores = torch.matmul(scores, self.v.unsqueeze(0).unsqueeze(-1)).squeeze(-1)\n",
        "        attn_weights = torch.softmax(scores, dim=1)\n",
        "        context = torch.bmm(attn_weights.unsqueeze(1), hidden_states).squeeze(1)\n",
        "        return context\n",
        "\n",
        "class LSTMWithAttention(nn.Module):\n",
        "    def __init__(self, input_dim, hidden_dim, output_dim, num_layers=1):\n",
        "        super(LSTMWithAttention, self).__init__()\n",
        "        self.lstm = nn.LSTM(input_dim, hidden_dim, num_layers, batch_first=True)\n",
        "        self.attention = Attention(hidden_dim)\n",
        "        self.fc = nn.Linear(hidden_dim, output_dim)\n",
        "\n",
        "    def forward(self, x):\n",
        "        lstm_out, _ = self.lstm(x)\n",
        "        attn_out = self.attention(lstm_out)\n",
        "        out = self.fc(attn_out)\n",
        "        return out"
      ]
    },
    {
      "cell_type": "code",
      "execution_count": 8,
      "metadata": {
        "colab": {
          "base_uri": "https://localhost:8080/"
        },
        "id": "UAmxQHr5l9Dd",
        "outputId": "ac64daa0-97eb-4628-998c-1419e2fdce88"
      },
      "outputs": [
        {
          "name": "stdout",
          "output_type": "stream",
          "text": [
            "Epoch 1/10, Loss: 0.0282, Accuracy: 0.9912\n",
            "Epoch 2/10, Loss: 0.0126, Accuracy: 0.9955\n",
            "Epoch 3/10, Loss: 0.0093, Accuracy: 0.9965\n",
            "Epoch 4/10, Loss: 0.0071, Accuracy: 0.9974\n",
            "Epoch 5/10, Loss: 0.0056, Accuracy: 0.9980\n",
            "Epoch 6/10, Loss: 0.0045, Accuracy: 0.9984\n",
            "Epoch 7/10, Loss: 0.0037, Accuracy: 0.9987\n",
            "Epoch 8/10, Loss: 0.0031, Accuracy: 0.9990\n",
            "Epoch 9/10, Loss: 0.0026, Accuracy: 0.9992\n",
            "Epoch 10/10, Loss: 0.0022, Accuracy: 0.9993\n",
            "Training complete.\n"
          ]
        }
      ],
      "source": [
        "# Model parameters\n",
        "input_dim = x_train_adv_tensor.shape[2]  # Number of features\n",
        "hidden_dim = 128\n",
        "output_dim = 1  # Binary classification\n",
        "num_layers = 1\n",
        "\n",
        "# Initialize the model\n",
        "model = LSTMWithAttention(input_dim, hidden_dim, output_dim, num_layers).to(device)\n",
        "\n",
        "def train_model(model, train_loader, num_epochs=10, learning_rate=0.001):\n",
        "    criterion = nn.BCEWithLogitsLoss()\n",
        "    optimizer = optim.Adam(model.parameters(), lr=learning_rate)\n",
        "\n",
        "    for epoch in range(num_epochs):\n",
        "        model.train()\n",
        "        running_loss = 0.0\n",
        "        correct = 0\n",
        "        total = 0\n",
        "\n",
        "        for inputs, labels in train_loader:\n",
        "            optimizer.zero_grad()\n",
        "            outputs = model(inputs)\n",
        "            loss = criterion(outputs.squeeze(), labels)\n",
        "            loss.backward()\n",
        "            optimizer.step()\n",
        "\n",
        "            running_loss += loss.item() * inputs.size(0)\n",
        "\n",
        "            # Compute predictions and accuracy\n",
        "            predicted = (torch.sigmoid(outputs.squeeze()) > 0.5).float()\n",
        "            correct += (predicted == labels).sum().item()\n",
        "            total += labels.size(0)\n",
        "\n",
        "        epoch_loss = running_loss / len(train_loader.dataset)\n",
        "        epoch_accuracy = correct / total\n",
        "        print(f\"Epoch {epoch + 1}/{num_epochs}, Loss: {epoch_loss:.4f}, Accuracy: {epoch_accuracy:.4f}\")\n",
        "\n",
        "    print(\"Training complete.\")\n",
        "\n",
        "# Training the model on adversarial data\n",
        "train_model(model, train_adv_loader)"
      ]
    },
    {
      "cell_type": "code",
      "execution_count": 16,
      "metadata": {
        "colab": {
          "base_uri": "https://localhost:8080/",
          "height": 715
        },
        "id": "2ZRg1phxmA2M",
        "outputId": "950ac748-a341-4b40-82e4-5c06df8545cd"
      },
      "outputs": [
        {
          "name": "stdout",
          "output_type": "stream",
          "text": [
            "Confusion Matrix:\n",
            "[[56696    54]\n",
            " [   34 56942]]\n",
            "\n",
            "Classification Report:\n",
            "              precision    recall  f1-score   support\n",
            "\n",
            "         0.0       1.00      1.00      1.00     56750\n",
            "         1.0       1.00      1.00      1.00     56976\n",
            "\n",
            "    accuracy                           1.00    113726\n",
            "   macro avg       1.00      1.00      1.00    113726\n",
            "weighted avg       1.00      1.00      1.00    113726\n",
            "\n"
          ]
        },
        {
          "data": {
            "image/png": "[encoded data removed]",
            "text/plain": [
              "<Figure size 640x480 with 1 Axes>"
            ]
          },
          "metadata": {},
          "output_type": "display_data"
        }
      ],
      "source": [
        "import numpy as np\n",
        "import matplotlib.pyplot as plt\n",
        "from sklearn.metrics import confusion_matrix, classification_report, roc_curve, auc\n",
        "\n",
        "def evaluate_model(model, test_loader):\n",
        "    model.eval()\n",
        "    all_labels = []\n",
        "    all_preds = []\n",
        "\n",
        "    with torch.no_grad():\n",
        "        for inputs, labels in test_loader:\n",
        "            outputs = model(inputs)\n",
        "            predicted = (torch.sigmoid(outputs.squeeze()) > 0.5).float()\n",
        "            all_labels.extend(labels.cpu().numpy())\n",
        "            all_preds.extend(predicted.cpu().numpy())\n",
        "\n",
        "    all_labels = np.array(all_labels)\n",
        "    all_preds = np.array(all_preds)\n",
        "\n",
        "    # Compute metrics\n",
        "    conf_matrix = confusion_matrix(all_labels, all_preds)\n",
        "    class_report = classification_report(all_labels, all_preds)\n",
        "\n",
        "    # ROC Curve\n",
        "    fpr, tpr, _ = roc_curve(all_labels, all_preds)\n",
        "    roc_auc = auc(fpr, tpr)\n",
        "\n",
        "    # Print confusion matrix and classification report\n",
        "    print(\"Confusion Matrix:\")\n",
        "    print(conf_matrix)\n",
        "    print(\"\\nClassification Report:\")\n",
        "    print(class_report)\n",
        "\n",
        "    # Plot ROC Curve\n",
        "    plt.figure()\n",
        "    plt.plot(fpr, tpr, color='darkorange', lw=2, label='ROC curve (area = %0.2f)' % roc_auc)\n",
        "    plt.plot([0, 1], [0, 1], color='navy', lw=2, linestyle='--')\n",
        "    plt.xlim([0.0, 1.0])\n",
        "    plt.ylim([0.0, 1.05])\n",
        "    plt.xlabel('False Positive Rate')\n",
        "    plt.ylabel('True Positive Rate')\n",
        "    plt.title('Receiver Operating Characteristic (ROC)')\n",
        "    plt.legend(loc='lower right')\n",
        "    plt.show()\n",
        "\n",
        "# Use the evaluate_model function with adversarial test data\n",
        "model_path = \"/Users/aryankargwal/adverscredit/models/weights/lst_pgd.pth\"\n",
        "model.load_state_dict(torch.load(model_path, map_location=torch.device('mps'))) \n",
        "evaluate_model(model, test_adv_loader)"
      ]
    },
    {
      "cell_type": "code",
      "execution_count": 11,
      "metadata": {
        "colab": {
          "base_uri": "https://localhost:8080/"
        },
        "id": "hBvthMYbmd7h",
        "outputId": "925c8bd6-208a-4e1c-bde9-232874e65fc2"
      },
      "outputs": [
        {
          "name": "stdout",
          "output_type": "stream",
          "text": [
            "Model saved to lst_pgd.pth\n"
          ]
        }
      ],
      "source": [
        "# Save the model\n",
        "model_path = \"lst_pgd.pth\"\n",
        "torch.save(model.state_dict(), model_path)\n",
        "print(f\"Model saved to {model_path}\")"
      ]
    },
    {
      "cell_type": "code",
      "execution_count": null,
      "metadata": {
        "id": "kLbenoIQn1Ck"
      },
      "outputs": [],
      "source": []
    }
  ],
  "metadata": {
    "accelerator": "GPU",
    "colab": {
      "gpuType": "T4",
      "provenance": []
    },
    "kernelspec": {
      "display_name": "Python 3.11.0 ('base')",
      "language": "python",
      "name": "python3"
    },
    "language_info": {
      "codemirror_mode": {
        "name": "ipython",
        "version": 3
      },
      "file_extension": ".py",
      "mimetype": "text/x-python",
      "name": "python",
      "nbconvert_exporter": "python",
      "pygments_lexer": "ipython3",
      "version": "3.11.0"
    },
    "vscode": {
      "interpreter": {
        "hash": "40d3a090f54c6569ab1632332b64b2c03c39dcf918b08424e98f38b5ae0af88f"
      }
    }
  },
  "nbformat": 4,
  "nbformat_minor": 0
}
